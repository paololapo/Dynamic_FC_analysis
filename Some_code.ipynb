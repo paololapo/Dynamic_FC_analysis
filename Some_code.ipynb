{
  "cells": [
    {
      "cell_type": "code",
      "execution_count": 1,
      "metadata": {
        "id": "ODr-Hbokdzat"
      },
      "outputs": [],
      "source": [
        "import numpy as np\n",
        "import pandas as pd\n",
        "import matplotlib.pyplot as plt\n",
        "import seaborn as sn"
      ]
    },
    {
      "cell_type": "code",
      "execution_count": 2,
      "metadata": {
        "colab": {
          "base_uri": "https://localhost:8080/",
          "height": 424
        },
        "id": "qKdyXenXd58Z",
        "outputId": "4f624f1a-defc-430f-e4a8-f3e1d23dba34"
      },
      "outputs": [
        {
          "data": {
            "text/html": [
              "\n",
              "  <div id=\"df-c7bba11a-2e5a-449a-b300-54b8e0f235af\">\n",
              "    <div class=\"colab-df-container\">\n",
              "      <div>\n",
              "<style scoped>\n",
              "    .dataframe tbody tr th:only-of-type {\n",
              "        vertical-align: middle;\n",
              "    }\n",
              "\n",
              "    .dataframe tbody tr th {\n",
              "        vertical-align: top;\n",
              "    }\n",
              "\n",
              "    .dataframe thead th {\n",
              "        text-align: right;\n",
              "    }\n",
              "</style>\n",
              "<table border=\"1\" class=\"dataframe\">\n",
              "  <thead>\n",
              "    <tr style=\"text-align: right;\">\n",
              "      <th></th>\n",
              "      <th>A</th>\n",
              "      <th>B</th>\n",
              "      <th>C</th>\n",
              "      <th>D</th>\n",
              "      <th>E</th>\n",
              "      <th>F</th>\n",
              "      <th>G</th>\n",
              "      <th>H</th>\n",
              "      <th>I</th>\n",
              "      <th>L</th>\n",
              "    </tr>\n",
              "  </thead>\n",
              "  <tbody>\n",
              "    <tr>\n",
              "      <th>0</th>\n",
              "      <td>-1.583431</td>\n",
              "      <td>-5.690821</td>\n",
              "      <td>1.393852</td>\n",
              "      <td>-0.632255</td>\n",
              "      <td>-2.630407</td>\n",
              "      <td>-0.801062</td>\n",
              "      <td>-0.603722</td>\n",
              "      <td>4.247088</td>\n",
              "      <td>-2.706628</td>\n",
              "      <td>-0.871662</td>\n",
              "    </tr>\n",
              "    <tr>\n",
              "      <th>1</th>\n",
              "      <td>2.440606</td>\n",
              "      <td>1.564009</td>\n",
              "      <td>-0.306757</td>\n",
              "      <td>0.170099</td>\n",
              "      <td>0.464557</td>\n",
              "      <td>-0.527898</td>\n",
              "      <td>0.079379</td>\n",
              "      <td>-0.378123</td>\n",
              "      <td>-1.996626</td>\n",
              "      <td>0.223857</td>\n",
              "    </tr>\n",
              "    <tr>\n",
              "      <th>2</th>\n",
              "      <td>-0.323044</td>\n",
              "      <td>-3.833118</td>\n",
              "      <td>-0.457599</td>\n",
              "      <td>0.974531</td>\n",
              "      <td>-0.688972</td>\n",
              "      <td>-2.723195</td>\n",
              "      <td>-0.638428</td>\n",
              "      <td>0.420517</td>\n",
              "      <td>-0.522992</td>\n",
              "      <td>2.019345</td>\n",
              "    </tr>\n",
              "    <tr>\n",
              "      <th>3</th>\n",
              "      <td>0.073895</td>\n",
              "      <td>0.476307</td>\n",
              "      <td>-1.172540</td>\n",
              "      <td>-2.569375</td>\n",
              "      <td>0.877282</td>\n",
              "      <td>-0.273370</td>\n",
              "      <td>1.239567</td>\n",
              "      <td>0.474450</td>\n",
              "      <td>0.528610</td>\n",
              "      <td>-1.087441</td>\n",
              "    </tr>\n",
              "    <tr>\n",
              "      <th>4</th>\n",
              "      <td>-1.521224</td>\n",
              "      <td>0.017516</td>\n",
              "      <td>-0.060925</td>\n",
              "      <td>3.405464</td>\n",
              "      <td>0.402572</td>\n",
              "      <td>-0.167009</td>\n",
              "      <td>-1.430690</td>\n",
              "      <td>0.635711</td>\n",
              "      <td>1.167589</td>\n",
              "      <td>-0.762382</td>\n",
              "    </tr>\n",
              "    <tr>\n",
              "      <th>...</th>\n",
              "      <td>...</td>\n",
              "      <td>...</td>\n",
              "      <td>...</td>\n",
              "      <td>...</td>\n",
              "      <td>...</td>\n",
              "      <td>...</td>\n",
              "      <td>...</td>\n",
              "      <td>...</td>\n",
              "      <td>...</td>\n",
              "      <td>...</td>\n",
              "    </tr>\n",
              "    <tr>\n",
              "      <th>999995</th>\n",
              "      <td>-0.581672</td>\n",
              "      <td>-0.386457</td>\n",
              "      <td>-0.210547</td>\n",
              "      <td>0.062117</td>\n",
              "      <td>1.552010</td>\n",
              "      <td>-0.347576</td>\n",
              "      <td>-0.465095</td>\n",
              "      <td>1.268499</td>\n",
              "      <td>-0.205128</td>\n",
              "      <td>0.980443</td>\n",
              "    </tr>\n",
              "    <tr>\n",
              "      <th>999996</th>\n",
              "      <td>0.691099</td>\n",
              "      <td>1.152085</td>\n",
              "      <td>-0.619477</td>\n",
              "      <td>0.401816</td>\n",
              "      <td>0.426875</td>\n",
              "      <td>-2.261062</td>\n",
              "      <td>-0.232320</td>\n",
              "      <td>-0.276161</td>\n",
              "      <td>-1.918823</td>\n",
              "      <td>0.131867</td>\n",
              "    </tr>\n",
              "    <tr>\n",
              "      <th>999997</th>\n",
              "      <td>1.009230</td>\n",
              "      <td>-1.142433</td>\n",
              "      <td>1.508793</td>\n",
              "      <td>-0.727750</td>\n",
              "      <td>0.285071</td>\n",
              "      <td>0.007690</td>\n",
              "      <td>-0.301045</td>\n",
              "      <td>-3.682997</td>\n",
              "      <td>-1.212841</td>\n",
              "      <td>2.577396</td>\n",
              "    </tr>\n",
              "    <tr>\n",
              "      <th>999998</th>\n",
              "      <td>0.060582</td>\n",
              "      <td>1.020180</td>\n",
              "      <td>-0.504067</td>\n",
              "      <td>-0.437576</td>\n",
              "      <td>1.023171</td>\n",
              "      <td>-2.896188</td>\n",
              "      <td>-2.502269</td>\n",
              "      <td>1.321322</td>\n",
              "      <td>2.289088</td>\n",
              "      <td>0.147100</td>\n",
              "    </tr>\n",
              "    <tr>\n",
              "      <th>999999</th>\n",
              "      <td>-1.111933</td>\n",
              "      <td>0.440974</td>\n",
              "      <td>-0.280882</td>\n",
              "      <td>-0.558264</td>\n",
              "      <td>0.452106</td>\n",
              "      <td>0.358530</td>\n",
              "      <td>2.647894</td>\n",
              "      <td>-1.458406</td>\n",
              "      <td>0.031580</td>\n",
              "      <td>0.327187</td>\n",
              "    </tr>\n",
              "  </tbody>\n",
              "</table>\n",
              "<p>1000000 rows × 10 columns</p>\n",
              "</div>\n",
              "      <button class=\"colab-df-convert\" onclick=\"convertToInteractive('df-c7bba11a-2e5a-449a-b300-54b8e0f235af')\"\n",
              "              title=\"Convert this dataframe to an interactive table.\"\n",
              "              style=\"display:none;\">\n",
              "        \n",
              "  <svg xmlns=\"http://www.w3.org/2000/svg\" height=\"24px\"viewBox=\"0 0 24 24\"\n",
              "       width=\"24px\">\n",
              "    <path d=\"M0 0h24v24H0V0z\" fill=\"none\"/>\n",
              "    <path d=\"M18.56 5.44l.94 2.06.94-2.06 2.06-.94-2.06-.94-.94-2.06-.94 2.06-2.06.94zm-11 1L8.5 8.5l.94-2.06 2.06-.94-2.06-.94L8.5 2.5l-.94 2.06-2.06.94zm10 10l.94 2.06.94-2.06 2.06-.94-2.06-.94-.94-2.06-.94 2.06-2.06.94z\"/><path d=\"M17.41 7.96l-1.37-1.37c-.4-.4-.92-.59-1.43-.59-.52 0-1.04.2-1.43.59L10.3 9.45l-7.72 7.72c-.78.78-.78 2.05 0 2.83L4 21.41c.39.39.9.59 1.41.59.51 0 1.02-.2 1.41-.59l7.78-7.78 2.81-2.81c.8-.78.8-2.07 0-2.86zM5.41 20L4 18.59l7.72-7.72 1.47 1.35L5.41 20z\"/>\n",
              "  </svg>\n",
              "      </button>\n",
              "      \n",
              "  <style>\n",
              "    .colab-df-container {\n",
              "      display:flex;\n",
              "      flex-wrap:wrap;\n",
              "      gap: 12px;\n",
              "    }\n",
              "\n",
              "    .colab-df-convert {\n",
              "      background-color: #E8F0FE;\n",
              "      border: none;\n",
              "      border-radius: 50%;\n",
              "      cursor: pointer;\n",
              "      display: none;\n",
              "      fill: #1967D2;\n",
              "      height: 32px;\n",
              "      padding: 0 0 0 0;\n",
              "      width: 32px;\n",
              "    }\n",
              "\n",
              "    .colab-df-convert:hover {\n",
              "      background-color: #E2EBFA;\n",
              "      box-shadow: 0px 1px 2px rgba(60, 64, 67, 0.3), 0px 1px 3px 1px rgba(60, 64, 67, 0.15);\n",
              "      fill: #174EA6;\n",
              "    }\n",
              "\n",
              "    [theme=dark] .colab-df-convert {\n",
              "      background-color: #3B4455;\n",
              "      fill: #D2E3FC;\n",
              "    }\n",
              "\n",
              "    [theme=dark] .colab-df-convert:hover {\n",
              "      background-color: #434B5C;\n",
              "      box-shadow: 0px 1px 3px 1px rgba(0, 0, 0, 0.15);\n",
              "      filter: drop-shadow(0px 1px 2px rgba(0, 0, 0, 0.3));\n",
              "      fill: #FFFFFF;\n",
              "    }\n",
              "  </style>\n",
              "\n",
              "      <script>\n",
              "        const buttonEl =\n",
              "          document.querySelector('#df-c7bba11a-2e5a-449a-b300-54b8e0f235af button.colab-df-convert');\n",
              "        buttonEl.style.display =\n",
              "          google.colab.kernel.accessAllowed ? 'block' : 'none';\n",
              "\n",
              "        async function convertToInteractive(key) {\n",
              "          const element = document.querySelector('#df-c7bba11a-2e5a-449a-b300-54b8e0f235af');\n",
              "          const dataTable =\n",
              "            await google.colab.kernel.invokeFunction('convertToInteractive',\n",
              "                                                     [key], {});\n",
              "          if (!dataTable) return;\n",
              "\n",
              "          const docLinkHtml = 'Like what you see? Visit the ' +\n",
              "            '<a target=\"_blank\" href=https://colab.research.google.com/notebooks/data_table.ipynb>data table notebook</a>'\n",
              "            + ' to learn more about interactive tables.';\n",
              "          element.innerHTML = '';\n",
              "          dataTable['output_type'] = 'display_data';\n",
              "          await google.colab.output.renderOutput(dataTable, element);\n",
              "          const docLink = document.createElement('div');\n",
              "          docLink.innerHTML = docLinkHtml;\n",
              "          element.appendChild(docLink);\n",
              "        }\n",
              "      </script>\n",
              "    </div>\n",
              "  </div>\n",
              "  "
            ],
            "text/plain": [
              "               A         B         C         D         E         F         G  \\\n",
              "0      -1.583431 -5.690821  1.393852 -0.632255 -2.630407 -0.801062 -0.603722   \n",
              "1       2.440606  1.564009 -0.306757  0.170099  0.464557 -0.527898  0.079379   \n",
              "2      -0.323044 -3.833118 -0.457599  0.974531 -0.688972 -2.723195 -0.638428   \n",
              "3       0.073895  0.476307 -1.172540 -2.569375  0.877282 -0.273370  1.239567   \n",
              "4      -1.521224  0.017516 -0.060925  3.405464  0.402572 -0.167009 -1.430690   \n",
              "...          ...       ...       ...       ...       ...       ...       ...   \n",
              "999995 -0.581672 -0.386457 -0.210547  0.062117  1.552010 -0.347576 -0.465095   \n",
              "999996  0.691099  1.152085 -0.619477  0.401816  0.426875 -2.261062 -0.232320   \n",
              "999997  1.009230 -1.142433  1.508793 -0.727750  0.285071  0.007690 -0.301045   \n",
              "999998  0.060582  1.020180 -0.504067 -0.437576  1.023171 -2.896188 -2.502269   \n",
              "999999 -1.111933  0.440974 -0.280882 -0.558264  0.452106  0.358530  2.647894   \n",
              "\n",
              "               H         I         L  \n",
              "0       4.247088 -2.706628 -0.871662  \n",
              "1      -0.378123 -1.996626  0.223857  \n",
              "2       0.420517 -0.522992  2.019345  \n",
              "3       0.474450  0.528610 -1.087441  \n",
              "4       0.635711  1.167589 -0.762382  \n",
              "...          ...       ...       ...  \n",
              "999995  1.268499 -0.205128  0.980443  \n",
              "999996 -0.276161 -1.918823  0.131867  \n",
              "999997 -3.682997 -1.212841  2.577396  \n",
              "999998  1.321322  2.289088  0.147100  \n",
              "999999 -1.458406  0.031580  0.327187  \n",
              "\n",
              "[1000000 rows x 10 columns]"
            ]
          },
          "execution_count": 2,
          "metadata": {},
          "output_type": "execute_result"
        }
      ],
      "source": [
        "#Fake data\n",
        "df = pd.DataFrame({})\n",
        "regions = [\"A\", \"B\", \"C\", \"D\", \"E\", \"F\", \"G\", \"H\", \"I\", \"L\"]\n",
        "\n",
        "for i in range(len(regions)):\n",
        "  df.insert(i, column=regions[i], value=np.random.laplace(size=int(1e6)))\n",
        "\n",
        "df"
      ]
    },
    {
      "cell_type": "code",
      "execution_count": 3,
      "metadata": {
        "colab": {
          "base_uri": "https://localhost:8080/"
        },
        "id": "qHlQOQaud8oH",
        "outputId": "e1fb8aca-5a88-4e40-b279-c193169f756c"
      },
      "outputs": [
        {
          "data": {
            "text/plain": [
              "(1000000, 10)"
            ]
          },
          "execution_count": 3,
          "metadata": {},
          "output_type": "execute_result"
        }
      ],
      "source": [
        "df.shape"
      ]
    },
    {
      "attachments": {},
      "cell_type": "markdown",
      "metadata": {},
      "source": [
        "$FC(t)$: correlation between columns in a given window of time $\\tau$"
      ]
    },
    {
      "cell_type": "code",
      "execution_count": 4,
      "metadata": {
        "id": "VJCQ524Nd-R-"
      },
      "outputs": [],
      "source": [
        "#t and tau are indices, could be necessary some conversion\n",
        "def FC(t, tau, data):\n",
        "  #Define the time window\n",
        "  data_window = data[int((t-tau/2)):int((t+tau/2))]\n",
        "\n",
        "  #.corr() method returns a Pandas DataFrame, .values makes it a Numpy Array (convenient for later consistency)\n",
        "  #Lost information about names of DafaFrame columns \n",
        "  FC_dataframe = data_window.corr(method=\"pearson\")\n",
        "  FC_array = FC_dataframe.values\n",
        "\n",
        "  return FC_array"
      ]
    },
    {
      "attachments": {},
      "cell_type": "markdown",
      "metadata": {},
      "source": [
        "$dFC(t_1, t_2)$: measure of correlation between two FC\n",
        "\n",
        "$dFC(t_1, t_2) = corr(UpperTri(FC(t_1)), UpperTri(FC(t_2))$"
      ]
    },
    {
      "cell_type": "code",
      "execution_count": 5,
      "metadata": {
        "id": "Esi6nvBeeAk1"
      },
      "outputs": [],
      "source": [
        "def dFC(FC_1, FC_2):\n",
        "  #Get the upper triangular matrix of FC\n",
        "  UpperTri_1 = FC_1[np.triu_indices(FC_1.shape[1], k=1)]\n",
        "  UpperTri_2 = FC_2[np.triu_indices(FC_2.shape[1], k=1)]\n",
        "\n",
        "  #Pearson correlation\n",
        "  rho = np.corrcoef(UpperTri_1, UpperTri_2)[0, 1]\n",
        "  return rho"
      ]
    },
    {
      "attachments": {},
      "cell_type": "markdown",
      "metadata": {},
      "source": [
        "$v_{dFC; \\tau}(t)$: speed in dFC by measure of correlation between FC separated by $\\tau$\n",
        "\n",
        "$v_{dFC; \\tau}(t)=1-dFC(t, t+\\tau)$"
      ]
    },
    {
      "cell_type": "code",
      "execution_count": 6,
      "metadata": {
        "id": "bM_PjChXeCy3"
      },
      "outputs": [],
      "source": [
        "#Note that it is being used the same tau both for FC window and speed\n",
        "def v_dFC(t, tau, data):\n",
        "  return  1 - dFC(FC(t, tau, data), FC(t+tau, tau, data))"
      ]
    },
    {
      "attachments": {},
      "cell_type": "markdown",
      "metadata": {},
      "source": [
        "$dFC$ stream: sequence of FC(t) by sliding a fixed time window $\\tau$ with $0$ overlap (!)\n",
        "\n",
        "return an array of correlation matrices\n",
        "\n",
        "**range(100) needs to be updated!!**"
      ]
    },
    {
      "cell_type": "code",
      "execution_count": null,
      "metadata": {
        "id": "bZr9ZB7JeEj_"
      },
      "outputs": [],
      "source": [
        "def dFC_stream(data, tau):\n",
        "  stream = np.zeros(shape=(1, data.shape[1], data.shape[1]))\n",
        "  \n",
        "  #range(100) needs to be updated\n",
        "  for i in range(100):\n",
        "    stream = np.append(stream, [FC(i+tau/2, tau, data)], axis=0)\n",
        "  \n",
        "  return stream[1:]"
      ]
    },
    {
      "attachments": {},
      "cell_type": "markdown",
      "metadata": {},
      "source": [
        "$v_{stream}$: returns $v_{dFC; \\tau}$ distribution for a given dFC stream\n",
        "\n",
        "$\\tau$ is fixed by the dFC stream"
      ]
    },
    {
      "cell_type": "code",
      "execution_count": 8,
      "metadata": {
        "id": "TJpfpOW8eGUt"
      },
      "outputs": [],
      "source": [
        "def v_stream(dFC_stream):\n",
        "  v_array = np.array([])\n",
        "\n",
        "  for i in range(dFC_stream.shape[0]-1):\n",
        "    v = 1 - dFC(dFC_stream[i], dFC_stream[i+1])\n",
        "    v_array = np.append(v_array, v)\n",
        "  \n",
        "  return v_array"
      ]
    },
    {
      "attachments": {},
      "cell_type": "markdown",
      "metadata": {},
      "source": [
        "$dFC$ matrix: similarity between FC networks\n",
        "\n",
        "$(dFC_{matrix})_{ij} = dFC(t_i, t_j) \\quad \\forall i, j$"
      ]
    },
    {
      "cell_type": "code",
      "execution_count": null,
      "metadata": {},
      "outputs": [],
      "source": [
        "def dFC_matrix(dFC_stream):\n",
        "  #Size of dFC_matrix: number of FC in dFC_stream\n",
        "  num_FC = dFC_stream.shape[0]\n",
        "  matrix = np.zeros(shape=(num_FC, num_FC))\n",
        "\n",
        "  #Fill lower triangula matrix\n",
        "  for i in range(num_FC):\n",
        "    for j in range(i+1):\n",
        "      matrix[i, j] = dFC(dFC_stream[i], dFC_stream[j])\n",
        "  \n",
        "  #Get the symmetric matrix\n",
        "  matrix = matrix + matrix.T - np.diag(matrix)\n",
        "\n",
        "  return matrix"
      ]
    },
    {
      "attachments": {},
      "cell_type": "markdown",
      "metadata": {},
      "source": [
        "Pooling: $v_{dFC, \\tau}$ distribution is similar for similar $\\tau$: increase the statistic"
      ]
    },
    {
      "cell_type": "code",
      "execution_count": null,
      "metadata": {},
      "outputs": [],
      "source": [
        "def pooled_v_stream(data, tau_min, tau_max):\n",
        "  v_array = np.array([])\n",
        "\n",
        "  for tau in range(tau_max - tau_min + 1):\n",
        "    #Get dFC stream and v distribution at fixed tau\n",
        "    stream_dFC = dFC_stream(data, tau)\n",
        "    stream_v = v_stream(stream_dFC)\n",
        "\n",
        "    v_array = np.append(v_array, stream_v)\n",
        "  \n",
        "  return v_array"
      ]
    },
    {
      "attachments": {},
      "cell_type": "markdown",
      "metadata": {},
      "source": [
        "t_SNE: 2D visualization of similarity evolution (stochastic walk) of UpperTri(FC(t)): dimensionality reduction"
      ]
    },
    {
      "cell_type": "code",
      "execution_count": null,
      "metadata": {},
      "outputs": [],
      "source": [
        "def tSNE_evolution(dFC_stream):\n",
        "  #Create empty matrix of UpperTri: shape = (number of FC in dFC stream, len(UpperTri))\n",
        "  dim_UpperTri = len(dFC_stream[0][np.triu_indices(dFC_stream[0].shape[1], k=1)])\n",
        "  UpperTri_matrix = np.zeros(shape=(dFC_stream.shape[0], dim_UpperTri))\n",
        "\n",
        "  #Fill UpperTri_matrix  \n",
        "  for i in range(dFC_stream.shape[0]):\n",
        "    #Get FC(t_i) and UpperTri(FC(t_i)) vector\n",
        "    FC = dFC_stream[i]\n",
        "    UpperTri = FC[np.triu_indices(FC.shape[1], k=1)]\n",
        "    \n",
        "    UpperTri_matrix[i] = UpperTri\n",
        "\n",
        "  #Points in 2D space\n",
        "  embedded_points = TSNE(n_components=2, perplexity=30.0, early_exaggeration=4.0, method=\"exact\").fit_transform(UpperTri_matrix)\n",
        "  \n",
        "  #Isolate x, y\n",
        "  feature1 = embedded_points[:, 0]\n",
        "  feature2 = embedded_points[:, 1]\n",
        "  \n",
        "  return feature1, feature2"
      ]
    }
  ],
  "metadata": {
    "colab": {
      "provenance": []
    },
    "kernelspec": {
      "display_name": "Python 3",
      "name": "python3"
    },
    "language_info": {
      "name": "python"
    }
  },
  "nbformat": 4,
  "nbformat_minor": 0
}
